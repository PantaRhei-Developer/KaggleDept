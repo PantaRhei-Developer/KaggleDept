{
 "cells": [
  {
   "cell_type": "markdown",
   "id": "61e4cb30",
   "metadata": {},
   "source": [
    "# データセット作成"
   ]
  },
  {
   "cell_type": "code",
   "execution_count": 2,
   "id": "9c7387bc",
   "metadata": {},
   "outputs": [],
   "source": [
    "import pandas as pd"
   ]
  },
  {
   "cell_type": "code",
   "execution_count": 3,
   "id": "820ab345",
   "metadata": {},
   "outputs": [],
   "source": [
    "# データをインポートしてきてがっちゃんこする、その後シャッフル\n",
    "t = pd.read_csv('../True.csv')\n",
    "f = pd.read_csv('../Fake.csv')\n",
    "t_new = pd.concat([t, pd.Series([0 for i in range(len(t))])], axis=1)\n",
    "f_new = pd.concat([f, pd.Series([1 for i in range(len(f))])], axis=1)\n",
    "total = pd.concat([t_new, f_new], axis=0)\n",
    "total_new = total.sample(frac=1, random_state=0)"
   ]
  },
  {
   "cell_type": "code",
   "execution_count": 4,
   "id": "a9193ad8",
   "metadata": {},
   "outputs": [],
   "source": [
    "# 訓練データを作る\n",
    "train = total_new[:40000]\n",
    "train.to_csv('train.csv', index=False, header=False)\n",
    "\n",
    "# テストデータを作る\n",
    "test = total_new[40000:].drop(columns=[0], axis=1)\n",
    "test.to_csv('test.csv', index=False, header=False)\n",
    "\n",
    "# サンプルサブミッションを作る\n",
    "sample_submission = pd.concat([pd.Series(test.index), pd.Series([0 for i in range(len(test))])], axis=1)\n",
    "sample_submission.to_csv('sample_submission.csv', index=False, header=False)"
   ]
  },
  {
   "cell_type": "markdown",
   "id": "0cfdb093",
   "metadata": {},
   "source": [
    "# 評価指標作成"
   ]
  },
  {
   "cell_type": "code",
   "execution_count": null,
   "id": "a726df35",
   "metadata": {},
   "outputs": [],
   "source": [
    "def calculate_accuracy(pred_y, true_y):\n",
    "    \"\"\"\n",
    "    精度を計算する関数\n",
    "    :param pred: 予測値\n",
    "    :param true: 正解値\n",
    "    :return: 精度\n",
    "    \"\"\"\n",
    "\n",
    "    # 予測ラベル\n",
    "    y_pred = pred_y.iloc[:, 1].values\n",
    "    # 正解ラベル\n",
    "    y_true = true_y.iloc[:, 1].values\n",
    "    # accuracyの算出\n",
    "    correct = (y_pred == y_true).sum()\n",
    "    total = len(y_true)\n",
    "    accuracy = correct / total\n",
    "    print(f'Accuracy: {accuracy:.4f}')\n",
    "    return accuracy"
   ]
  },
  {
   "cell_type": "code",
   "execution_count": 48,
   "id": "413d3ddc",
   "metadata": {},
   "outputs": [],
   "source": [
    "true_y = pd.concat([pd.Series(test.index), total_new[40000:][0].reset_index(drop=True)], axis=1)"
   ]
  },
  {
   "cell_type": "code",
   "execution_count": 50,
   "id": "e56427a8",
   "metadata": {},
   "outputs": [
    {
     "name": "stdout",
     "output_type": "stream",
     "text": [
      "[0 0 1 ... 1 1 0]\n",
      "Accuracy: 0.4780\n"
     ]
    }
   ],
   "source": [
    "final_metrics = calculate_accuracy(sample_submission, true_y)"
   ]
  },
  {
   "cell_type": "markdown",
   "id": "924f3e22",
   "metadata": {},
   "source": [
    "# 測定！"
   ]
  },
  {
   "cell_type": "code",
   "execution_count": 52,
   "id": "3a3d8548",
   "metadata": {},
   "outputs": [
    {
     "name": "stdout",
     "output_type": "stream",
     "text": [
      "[0 0 1 ... 1 1 0]\n",
      "Accuracy: 0.9855\n"
     ]
    }
   ],
   "source": [
    "pred_y = pd.read_csv('submission.csv', header=None)\n",
    "final_metrics = calculate_accuracy(pred_y, true_y)"
   ]
  },
  {
   "cell_type": "markdown",
   "id": "0d193c64",
   "metadata": {},
   "source": [
    "# sample submissionのidの違和感からidリークに気がついた方へ"
   ]
  },
  {
   "cell_type": "code",
   "execution_count": 63,
   "id": "daa9acab",
   "metadata": {},
   "outputs": [],
   "source": [
    "import numpy as np\n",
    "leak_submission = pd.concat([sample_submission.iloc[:,0], pd.Series(np.where(sample_submission.iloc[:, 0].values < 21417, 0, 1))], axis=1) "
   ]
  },
  {
   "cell_type": "code",
   "execution_count": 65,
   "id": "b777d1bf",
   "metadata": {},
   "outputs": [
    {
     "name": "stdout",
     "output_type": "stream",
     "text": [
      "[0 0 1 ... 1 1 0]\n",
      "Accuracy: 0.5251\n"
     ]
    },
    {
     "data": {
      "text/plain": [
       "np.float64(0.5251122907309106)"
      ]
     },
     "execution_count": 65,
     "metadata": {},
     "output_type": "execute_result"
    }
   ],
   "source": [
    "calculate_accuracy(leak_submission, true_y)"
   ]
  },
  {
   "cell_type": "code",
   "execution_count": 75,
   "id": "38b5f7e6",
   "metadata": {},
   "outputs": [],
   "source": [
    "# リーク、、、、あんまり関係ないっぽい、、、、裏テーマなかった、、、"
   ]
  }
 ],
 "metadata": {
  "kernelspec": {
   "display_name": "base",
   "language": "python",
   "name": "python3"
  },
  "language_info": {
   "codemirror_mode": {
    "name": "ipython",
    "version": 3
   },
   "file_extension": ".py",
   "mimetype": "text/x-python",
   "name": "python",
   "nbconvert_exporter": "python",
   "pygments_lexer": "ipython3",
   "version": "3.9.7"
  }
 },
 "nbformat": 4,
 "nbformat_minor": 5
}
